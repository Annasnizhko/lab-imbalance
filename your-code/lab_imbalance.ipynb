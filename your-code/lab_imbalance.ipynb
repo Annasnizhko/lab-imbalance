{
 "cells": [
  {
   "cell_type": "markdown",
   "metadata": {},
   "source": [
    "# Inbalanced Classes\n",
    "## In this lab, we are going to explore a case of imbalanced classes. \n",
    "\n",
    "\n",
    "Like we disussed in class, when we have noisy data, if we are not careful, we can end up fitting our model to the noise in the data and not the 'signal'-- the factors that actually determine the outcome. This is called overfitting, and results in good results in training, and in bad results when the model is applied to real data. Similarly, we could have a model that is too simplistic to accurately model the signal. This produces a model that doesnt work well (ever). \n"
   ]
  },
  {
   "cell_type": "markdown",
   "metadata": {},
   "source": [
    "### Note: before doing the first commit, make sure you don't include the large csv file, either by adding it to .gitignore, or by deleting it."
   ]
  },
  {
   "cell_type": "markdown",
   "metadata": {},
   "source": [
    "### First, download the data from: https://www.kaggle.com/datasets/chitwanmanchanda/fraudulent-transactions-data?resource=download . Import the dataset and provide some discriptive statistics and plots. What do you think will be the important features in determining the outcome?\n",
    "### Note: don't use the entire dataset, use a sample instead, with n=100000 elements, so your computer doesn't freeze."
   ]
  },
  {
   "cell_type": "code",
   "execution_count": 54,
   "metadata": {},
   "outputs": [],
   "source": [
    "# Your code here\n",
    "\n",
    "import pandas as pd\n",
    "import matplotlib.pyplot as plt\n",
    "import seaborn as sns\n",
    "import numpy as np\n",
    "from sklearn.preprocessing import StandardScaler, OneHotEncoder\n",
    "from sklearn.compose import ColumnTransformer\n",
    "from sklearn.pipeline import Pipeline\n",
    "from sklearn.impute import SimpleImputer\n",
    "from sklearn.linear_model import LogisticRegression\n",
    "from sklearn.model_selection import train_test_split\n",
    "from sklearn.metrics import accuracy_score, confusion_matrix, classification_report\n",
    "from sklearn.ensemble import RandomForestClassifier\n",
    "\n",
    "\n"
   ]
  },
  {
   "cell_type": "code",
   "execution_count": 25,
   "metadata": {
    "scrolled": false
   },
   "outputs": [],
   "source": [
    "# Load the dataset\n",
    "data = pd.read_csv('/Users/anna/iron_hack/lab-imbalance/data_imbalance.csv')\n",
    "\n",
    "# Sample 100,000 entries\n",
    "sample_data = data.sample(n=100000, random_state=1)\n",
    "\n",
    "# Display basic statistics\n",
    "# print(sample_data.describe())"
   ]
  },
  {
   "cell_type": "markdown",
   "metadata": {},
   "source": [
    "The following features are likely to be significant in determining the outcome of fraud detection:\n",
    "1. Transaction Amount\n",
    "Larger transaction amounts may correlate with higher fraud risk.\n",
    "2. Old and New Balances\n",
    "The differences between oldbalanceOrg and newbalanceOrig can indicate unusual activity, especially if a large amount is withdrawn or transferred.\n",
    "3. Account Activity\n",
    "The frequency of transactions and the patterns of account usage (e.g., sudden spikes in transaction amounts or frequency) can be strong indicators of potential fraud.\n",
    "4. Account Age\n",
    "If available, the age of the accounts (how long they have been active) may provide insights, as newer accounts may be more susceptible to fraud.\n",
    "5. Destination Account Characteristics\n",
    "Analyzing the destination account's balance and transaction history could reveal potential red flags.\n",
    "6. Transaction Type\n",
    "Different transaction types (CASH_IN, CASH_OUT, PAYMENT) may have varying risks associated with them."
   ]
  },
  {
   "cell_type": "code",
   "execution_count": 3,
   "metadata": {},
   "outputs": [
    {
     "data": {
      "text/html": [
       "<div>\n",
       "<style scoped>\n",
       "    .dataframe tbody tr th:only-of-type {\n",
       "        vertical-align: middle;\n",
       "    }\n",
       "\n",
       "    .dataframe tbody tr th {\n",
       "        vertical-align: top;\n",
       "    }\n",
       "\n",
       "    .dataframe thead th {\n",
       "        text-align: right;\n",
       "    }\n",
       "</style>\n",
       "<table border=\"1\" class=\"dataframe\">\n",
       "  <thead>\n",
       "    <tr style=\"text-align: right;\">\n",
       "      <th></th>\n",
       "      <th>step</th>\n",
       "      <th>type</th>\n",
       "      <th>amount</th>\n",
       "      <th>nameOrig</th>\n",
       "      <th>oldbalanceOrg</th>\n",
       "      <th>newbalanceOrig</th>\n",
       "      <th>nameDest</th>\n",
       "      <th>oldbalanceDest</th>\n",
       "      <th>newbalanceDest</th>\n",
       "      <th>isFraud</th>\n",
       "      <th>isFlaggedFraud</th>\n",
       "    </tr>\n",
       "  </thead>\n",
       "  <tbody>\n",
       "    <tr>\n",
       "      <th>6322570</th>\n",
       "      <td>688</td>\n",
       "      <td>CASH_IN</td>\n",
       "      <td>23557.12</td>\n",
       "      <td>C867750533</td>\n",
       "      <td>8059.00</td>\n",
       "      <td>31616.12</td>\n",
       "      <td>C1026934669</td>\n",
       "      <td>169508.66</td>\n",
       "      <td>145951.53</td>\n",
       "      <td>0</td>\n",
       "      <td>0</td>\n",
       "    </tr>\n",
       "    <tr>\n",
       "      <th>3621196</th>\n",
       "      <td>274</td>\n",
       "      <td>PAYMENT</td>\n",
       "      <td>6236.13</td>\n",
       "      <td>C601099070</td>\n",
       "      <td>0.00</td>\n",
       "      <td>0.00</td>\n",
       "      <td>M701283411</td>\n",
       "      <td>0.00</td>\n",
       "      <td>0.00</td>\n",
       "      <td>0</td>\n",
       "      <td>0</td>\n",
       "    </tr>\n",
       "    <tr>\n",
       "      <th>1226256</th>\n",
       "      <td>133</td>\n",
       "      <td>PAYMENT</td>\n",
       "      <td>33981.87</td>\n",
       "      <td>C279540931</td>\n",
       "      <td>18745.72</td>\n",
       "      <td>0.00</td>\n",
       "      <td>M577905776</td>\n",
       "      <td>0.00</td>\n",
       "      <td>0.00</td>\n",
       "      <td>0</td>\n",
       "      <td>0</td>\n",
       "    </tr>\n",
       "    <tr>\n",
       "      <th>2803274</th>\n",
       "      <td>225</td>\n",
       "      <td>CASH_OUT</td>\n",
       "      <td>263006.42</td>\n",
       "      <td>C11675531</td>\n",
       "      <td>20072.00</td>\n",
       "      <td>0.00</td>\n",
       "      <td>C529577791</td>\n",
       "      <td>390253.56</td>\n",
       "      <td>653259.98</td>\n",
       "      <td>0</td>\n",
       "      <td>0</td>\n",
       "    </tr>\n",
       "    <tr>\n",
       "      <th>3201247</th>\n",
       "      <td>249</td>\n",
       "      <td>CASH_OUT</td>\n",
       "      <td>152013.74</td>\n",
       "      <td>C530649214</td>\n",
       "      <td>20765.00</td>\n",
       "      <td>0.00</td>\n",
       "      <td>C1304175579</td>\n",
       "      <td>252719.19</td>\n",
       "      <td>404732.93</td>\n",
       "      <td>0</td>\n",
       "      <td>0</td>\n",
       "    </tr>\n",
       "  </tbody>\n",
       "</table>\n",
       "</div>"
      ],
      "text/plain": [
       "         step      type     amount    nameOrig  oldbalanceOrg  newbalanceOrig  \\\n",
       "6322570   688   CASH_IN   23557.12  C867750533        8059.00        31616.12   \n",
       "3621196   274   PAYMENT    6236.13  C601099070           0.00            0.00   \n",
       "1226256   133   PAYMENT   33981.87  C279540931       18745.72            0.00   \n",
       "2803274   225  CASH_OUT  263006.42   C11675531       20072.00            0.00   \n",
       "3201247   249  CASH_OUT  152013.74  C530649214       20765.00            0.00   \n",
       "\n",
       "            nameDest  oldbalanceDest  newbalanceDest  isFraud  isFlaggedFraud  \n",
       "6322570  C1026934669       169508.66       145951.53        0               0  \n",
       "3621196   M701283411            0.00            0.00        0               0  \n",
       "1226256   M577905776            0.00            0.00        0               0  \n",
       "2803274   C529577791       390253.56       653259.98        0               0  \n",
       "3201247  C1304175579       252719.19       404732.93        0               0  "
      ]
     },
     "execution_count": 3,
     "metadata": {},
     "output_type": "execute_result"
    }
   ],
   "source": [
    "sample_data.head()"
   ]
  },
  {
   "cell_type": "markdown",
   "metadata": {},
   "source": [
    "### What is the distribution of the outcome? "
   ]
  },
  {
   "cell_type": "code",
   "execution_count": 26,
   "metadata": {},
   "outputs": [
    {
     "name": "stdout",
     "output_type": "stream",
     "text": [
      "0    99876\n",
      "1      124\n",
      "Name: isFraud, dtype: int64\n"
     ]
    },
    {
     "data": {
      "image/png": "[encoded data removed]",
      "text/plain": [
       "<Figure size 800x500 with 1 Axes>"
      ]
     },
     "metadata": {},
     "output_type": "display_data"
    }
   ],
   "source": [
    "# Your response here\n",
    "# Count the occurrences of each outcome\n",
    "outcome_counts = sample_data['isFraud'].value_counts()\n",
    "\n",
    "# Print the outcome counts\n",
    "print(outcome_counts)\n",
    "\n",
    "# Plotting the distribution of the outcome\n",
    "plt.figure(figsize=(8, 5))\n",
    "sns.countplot(x='isFraud', data=sample_data, palette='Set2')\n",
    "plt.title('Distribution of Fraud Outcomes')\n",
    "plt.xlabel('Is Fraud')\n",
    "plt.ylabel('Count')\n",
    "plt.xticks([0, 1], ['Not Fraud (0)', 'Fraud (1)'])\n",
    "plt.show()"
   ]
  },
  {
   "cell_type": "markdown",
   "metadata": {},
   "source": [
    "### Clean the dataset. Pre-process it to make it suitable for ML training. Feel free to explore, drop, encode, transform, etc. Whatever you feel will improve the model score."
   ]
  },
  {
   "cell_type": "code",
   "execution_count": 31,
   "metadata": {},
   "outputs": [],
   "source": [
    "fraud_data = data[data['isFraud'] == 1]\n",
    "non_fraud_data = data[data['isFraud'] == 0]\n",
    "\n",
    "total_data_count = len(data)\n",
    "fraud_data_count = len(fraud_data)\n",
    "\n",
    "sampled_non_fraud_data = non_fraud_data.sample(n=fraud_data_count, random_state=1)"
   ]
  },
  {
   "cell_type": "code",
   "execution_count": 40,
   "metadata": {},
   "outputs": [],
   "source": [
    "balanced_data = pd.concat([sampled_non_fraud_data, fraud_data], ignore_index=True)"
   ]
  },
  {
   "cell_type": "code",
   "execution_count": 41,
   "metadata": {},
   "outputs": [
    {
     "data": {
      "text/html": [
       "<div>\n",
       "<style scoped>\n",
       "    .dataframe tbody tr th:only-of-type {\n",
       "        vertical-align: middle;\n",
       "    }\n",
       "\n",
       "    .dataframe tbody tr th {\n",
       "        vertical-align: top;\n",
       "    }\n",
       "\n",
       "    .dataframe thead th {\n",
       "        text-align: right;\n",
       "    }\n",
       "</style>\n",
       "<table border=\"1\" class=\"dataframe\">\n",
       "  <thead>\n",
       "    <tr style=\"text-align: right;\">\n",
       "      <th></th>\n",
       "      <th>step</th>\n",
       "      <th>type</th>\n",
       "      <th>amount</th>\n",
       "      <th>nameOrig</th>\n",
       "      <th>oldbalanceOrg</th>\n",
       "      <th>newbalanceOrig</th>\n",
       "      <th>nameDest</th>\n",
       "      <th>oldbalanceDest</th>\n",
       "      <th>newbalanceDest</th>\n",
       "      <th>isFraud</th>\n",
       "      <th>isFlaggedFraud</th>\n",
       "    </tr>\n",
       "  </thead>\n",
       "  <tbody>\n",
       "    <tr>\n",
       "      <th>0</th>\n",
       "      <td>159</td>\n",
       "      <td>CASH_IN</td>\n",
       "      <td>290448.64</td>\n",
       "      <td>C683933272</td>\n",
       "      <td>49671.00</td>\n",
       "      <td>340119.64</td>\n",
       "      <td>C948751934</td>\n",
       "      <td>34047.63</td>\n",
       "      <td>0.00</td>\n",
       "      <td>0</td>\n",
       "      <td>0</td>\n",
       "    </tr>\n",
       "    <tr>\n",
       "      <th>1</th>\n",
       "      <td>19</td>\n",
       "      <td>PAYMENT</td>\n",
       "      <td>7521.26</td>\n",
       "      <td>C1434220511</td>\n",
       "      <td>0.00</td>\n",
       "      <td>0.00</td>\n",
       "      <td>M2098189366</td>\n",
       "      <td>0.00</td>\n",
       "      <td>0.00</td>\n",
       "      <td>0</td>\n",
       "      <td>0</td>\n",
       "    </tr>\n",
       "    <tr>\n",
       "      <th>2</th>\n",
       "      <td>210</td>\n",
       "      <td>PAYMENT</td>\n",
       "      <td>12043.69</td>\n",
       "      <td>C1632575026</td>\n",
       "      <td>0.00</td>\n",
       "      <td>0.00</td>\n",
       "      <td>M83346807</td>\n",
       "      <td>0.00</td>\n",
       "      <td>0.00</td>\n",
       "      <td>0</td>\n",
       "      <td>0</td>\n",
       "    </tr>\n",
       "    <tr>\n",
       "      <th>3</th>\n",
       "      <td>357</td>\n",
       "      <td>CASH_IN</td>\n",
       "      <td>120116.21</td>\n",
       "      <td>C835727091</td>\n",
       "      <td>97688.68</td>\n",
       "      <td>217804.90</td>\n",
       "      <td>C2084926563</td>\n",
       "      <td>849069.38</td>\n",
       "      <td>728953.17</td>\n",
       "      <td>0</td>\n",
       "      <td>0</td>\n",
       "    </tr>\n",
       "    <tr>\n",
       "      <th>4</th>\n",
       "      <td>211</td>\n",
       "      <td>CASH_OUT</td>\n",
       "      <td>115161.12</td>\n",
       "      <td>C1656739705</td>\n",
       "      <td>0.00</td>\n",
       "      <td>0.00</td>\n",
       "      <td>C778089718</td>\n",
       "      <td>576802.51</td>\n",
       "      <td>691963.63</td>\n",
       "      <td>0</td>\n",
       "      <td>0</td>\n",
       "    </tr>\n",
       "  </tbody>\n",
       "</table>\n",
       "</div>"
      ],
      "text/plain": [
       "   step      type     amount     nameOrig  oldbalanceOrg  newbalanceOrig  \\\n",
       "0   159   CASH_IN  290448.64   C683933272       49671.00       340119.64   \n",
       "1    19   PAYMENT    7521.26  C1434220511           0.00            0.00   \n",
       "2   210   PAYMENT   12043.69  C1632575026           0.00            0.00   \n",
       "3   357   CASH_IN  120116.21   C835727091       97688.68       217804.90   \n",
       "4   211  CASH_OUT  115161.12  C1656739705           0.00            0.00   \n",
       "\n",
       "      nameDest  oldbalanceDest  newbalanceDest  isFraud  isFlaggedFraud  \n",
       "0   C948751934        34047.63            0.00        0               0  \n",
       "1  M2098189366            0.00            0.00        0               0  \n",
       "2    M83346807            0.00            0.00        0               0  \n",
       "3  C2084926563       849069.38       728953.17        0               0  \n",
       "4   C778089718       576802.51       691963.63        0               0  "
      ]
     },
     "execution_count": 41,
     "metadata": {},
     "output_type": "execute_result"
    }
   ],
   "source": [
    "balanced_data.head()"
   ]
  },
  {
   "cell_type": "code",
   "execution_count": 42,
   "metadata": {},
   "outputs": [
    {
     "name": "stdout",
     "output_type": "stream",
     "text": [
      "16426\n"
     ]
    }
   ],
   "source": [
    "print(len(balanced_data))"
   ]
  },
  {
   "cell_type": "code",
   "execution_count": 43,
   "metadata": {},
   "outputs": [
    {
     "name": "stdout",
     "output_type": "stream",
     "text": [
      "0    8213\n",
      "1    8213\n",
      "Name: isFraud, dtype: int64\n"
     ]
    },
    {
     "data": {
      "image/png": "[encoded data removed]",
      "text/plain": [
       "<Figure size 800x500 with 1 Axes>"
      ]
     },
     "metadata": {},
     "output_type": "display_data"
    }
   ],
   "source": [
    "# Your response here\n",
    "# Count the occurrences of each outcome in balanced data\n",
    "outcome_counts = balanced_data['isFraud'].value_counts()\n",
    "\n",
    "# Print the outcome counts in balanced data\n",
    "print(outcome_counts)\n",
    "\n",
    "# Plotting the distribution of the outcome in balanced data\n",
    "plt.figure(figsize=(8, 5))\n",
    "sns.countplot(x='isFraud', data=balanced_data, palette='Set2')\n",
    "plt.title('Distribution of Fraud Outcomes')\n",
    "plt.xlabel('Is Fraud')\n",
    "plt.ylabel('Count')\n",
    "plt.xticks([0, 1], ['Not Fraud (0)', 'Fraud (1)'])\n",
    "plt.show()"
   ]
  },
  {
   "cell_type": "code",
   "execution_count": 44,
   "metadata": {
    "scrolled": true
   },
   "outputs": [
    {
     "name": "stdout",
     "output_type": "stream",
     "text": [
      "type              0\n",
      "amount            0\n",
      "oldbalanceOrg     0\n",
      "newbalanceOrig    0\n",
      "oldbalanceDest    0\n",
      "newbalanceDest    0\n",
      "isFraud           0\n",
      "isFlaggedFraud    0\n",
      "dtype: int64\n"
     ]
    }
   ],
   "source": [
    "# Your code here\n",
    "# Drop unnecessary columns \n",
    "balanced_data.drop(columns=['step', 'nameOrig', 'nameDest'], inplace=True) \n",
    "\n",
    "# Check for missing values\n",
    "print(balanced_data.isnull().sum())\n",
    "\n",
    "# Handle missing values \n",
    "balanced_data.dropna(inplace=True)\n",
    "\n",
    "# Check for duplicates\n",
    "balanced_data.drop_duplicates(inplace=True)"
   ]
  },
  {
   "cell_type": "code",
   "execution_count": 6,
   "metadata": {},
   "outputs": [],
   "source": [
    "# Create a feature for balance change\n",
    "balanced_data['balance_change'] = balanced_data['newbalanceOrig'] - balanced_data['oldbalanceOrg']"
   ]
  },
  {
   "cell_type": "code",
   "execution_count": 46,
   "metadata": {},
   "outputs": [],
   "source": [
    "# One-hot encode the 'type' column\n",
    "balanced_data = pd.get_dummies(balanced_data, columns=['type'], drop_first=True)"
   ]
  },
  {
   "cell_type": "code",
   "execution_count": 47,
   "metadata": {},
   "outputs": [],
   "source": [
    "# Define features and target variable\n",
    "X = balanced_data.drop(columns=['isFraud', 'isFlaggedFraud'])  # Features\n",
    "y = balanced_data['isFraud']  # Target\n",
    "\n",
    "# Scale numerical features\n",
    "scaler = StandardScaler()\n",
    "X_scaled = scaler.fit_transform(X)"
   ]
  },
  {
   "cell_type": "code",
   "execution_count": 48,
   "metadata": {},
   "outputs": [],
   "source": [
    "X_final = pd.DataFrame(X_scaled, columns=X.columns)\n",
    "y_final = y.reset_index(drop=True)\n"
   ]
  },
  {
   "cell_type": "markdown",
   "metadata": {},
   "source": [
    "### Run a logisitc regression classifier and evaluate its accuracy."
   ]
  },
  {
   "cell_type": "code",
   "execution_count": 49,
   "metadata": {},
   "outputs": [],
   "source": [
    "# Your code here\n",
    "\n",
    "# Split the dataset into training and testing sets\n",
    "X_train, X_test, y_train, y_test = train_test_split(X_final, y_final, test_size=0.2, random_state=42)"
   ]
  },
  {
   "cell_type": "code",
   "execution_count": 50,
   "metadata": {
    "scrolled": true
   },
   "outputs": [],
   "source": [
    "# Create and fit the logistic regression model\n",
    "model = LogisticRegression()\n",
    "model.fit(X_train, y_train)\n",
    "\n",
    "# Make predictions on the test set\n",
    "y_pred = model.predict(X_test)\n",
    "\n",
    "# Evaluate the model's accuracy\n",
    "accuracy = accuracy_score(y_test, y_pred)\n",
    "conf_matrix = confusion_matrix(y_test, y_pred)\n",
    "class_report = classification_report(y_test, y_pred)\n"
   ]
  },
  {
   "cell_type": "code",
   "execution_count": 51,
   "metadata": {},
   "outputs": [
    {
     "data": {
      "text/plain": [
       "0.9156736938588451"
      ]
     },
     "execution_count": 51,
     "metadata": {},
     "output_type": "execute_result"
    }
   ],
   "source": [
    "accuracy"
   ]
  },
  {
   "cell_type": "code",
   "execution_count": 52,
   "metadata": {
    "scrolled": true
   },
   "outputs": [
    {
     "data": {
      "text/plain": [
       "array([[1532,  103],\n",
       "       [ 173, 1465]])"
      ]
     },
     "execution_count": 52,
     "metadata": {},
     "output_type": "execute_result"
    }
   ],
   "source": [
    "conf_matrix"
   ]
  },
  {
   "cell_type": "code",
   "execution_count": 53,
   "metadata": {},
   "outputs": [
    {
     "data": {
      "text/plain": [
       "'              precision    recall  f1-score   support\\n\\n           0       0.90      0.94      0.92      1635\\n           1       0.93      0.89      0.91      1638\\n\\n    accuracy                           0.92      3273\\n   macro avg       0.92      0.92      0.92      3273\\nweighted avg       0.92      0.92      0.92      3273\\n'"
      ]
     },
     "execution_count": 53,
     "metadata": {},
     "output_type": "execute_result"
    }
   ],
   "source": [
    "class_report"
   ]
  },
  {
   "cell_type": "markdown",
   "metadata": {},
   "source": [
    "### Now pick a model of your choice and evaluate its accuracy."
   ]
  },
  {
   "cell_type": "code",
   "execution_count": 56,
   "metadata": {},
   "outputs": [
    {
     "name": "stdout",
     "output_type": "stream",
     "text": [
      "Prediction Accuracy: 0.9942\n",
      "Confusion Matrix:\n",
      "[[1620   15]\n",
      " [   4 1634]]\n",
      "Classification Report:\n",
      "              precision    recall  f1-score   support\n",
      "\n",
      "           0       1.00      0.99      0.99      1635\n",
      "           1       0.99      1.00      0.99      1638\n",
      "\n",
      "    accuracy                           0.99      3273\n",
      "   macro avg       0.99      0.99      0.99      3273\n",
      "weighted avg       0.99      0.99      0.99      3273\n",
      "\n"
     ]
    }
   ],
   "source": [
    "# Your code here\n",
    "# Preprocess the dataset\n",
    "X = balanced_data.drop(columns=['isFraud', 'isFlaggedFraud'])\n",
    "y = balanced_data['isFraud']\n",
    "\n",
    "# Split the dataset into training and testing sets\n",
    "X_train, X_test, y_train, y_test = train_test_split(X, y, test_size=0.2, random_state=42)\n",
    "\n",
    "# Create and train the Random Forest model\n",
    "model = RandomForestClassifier(n_estimators=100, random_state=42)\n",
    "model.fit(X_train, y_train)\n",
    "\n",
    "# Make predictions on the test set\n",
    "y_pred = model.predict(X_test)\n",
    "\n",
    "# Evaluate the model's performance\n",
    "accuracy = accuracy_score(y_test, y_pred)\n",
    "conf_matrix = confusion_matrix(y_test, y_pred)\n",
    "class_report = classification_report(y_test, y_pred)\n",
    "\n",
    "# Print the results\n",
    "print(f\"Prediction Accuracy: {accuracy:.4f}\")\n",
    "print(\"Confusion Matrix:\")\n",
    "print(conf_matrix)\n",
    "print(\"Classification Report:\")\n",
    "print(class_report)"
   ]
  },
  {
   "cell_type": "markdown",
   "metadata": {},
   "source": [
    "### Which model worked better and how do you know?"
   ]
  },
  {
   "cell_type": "markdown",
   "metadata": {},
   "source": [
    "# Your response here\n",
    "Based on Prediction Accuracy Random Forest worked better than logistic regression model"
   ]
  },
  {
   "cell_type": "markdown",
   "metadata": {},
   "source": [
    "### Note: before doing the first commit, make sure you don't include the large csv file, either by adding it to .gitignore, or by deleting it."
   ]
  }
 ],
 "metadata": {
  "kernelspec": {
   "display_name": "Python 3 (ipykernel)",
   "language": "python",
   "name": "python3"
  },
  "language_info": {
   "codemirror_mode": {
    "name": "ipython",
    "version": 3
   },
   "file_extension": ".py",
   "mimetype": "text/x-python",
   "name": "python",
   "nbconvert_exporter": "python",
   "pygments_lexer": "ipython3",
   "version": "3.10.6"
  },
  "toc": {
   "base_numbering": 1,
   "nav_menu": {},
   "number_sections": true,
   "sideBar": true,
   "skip_h1_title": false,
   "title_cell": "Table of Contents",
   "title_sidebar": "Contents",
   "toc_cell": false,
   "toc_position": {},
   "toc_section_display": true,
   "toc_window_display": false
  }
 },
 "nbformat": 4,
 "nbformat_minor": 2
}
